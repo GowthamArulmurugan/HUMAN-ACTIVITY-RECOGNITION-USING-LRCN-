{
 "cells": [
  {
   "cell_type": "code",
   "execution_count": null,
   "metadata": {},
   "outputs": [],
   "source": [
    "# Import the required libraries.\n",
    "import os\n",
    "import cv2\n",
    "import pafy\n",
    "import math\n",
    "import random\n",
    "import numpy as np\n",
    "import datetime as dt\n",
    "import tensorflow as tf\n",
    "from collections import deque\n",
    "import matplotlib.pyplot as plt\n",
    "\n",
    "from moviepy.editor import *\n",
    "%matplotlib inline\n",
    "\n",
    "from sklearn.model_selection import train_test_split\n",
    "\n",
    "from tensorflow.keras.layers import *\n",
    "from tensorflow.keras.models import Sequential\n",
    "from tensorflow.keras.utils import to_categorical\n",
    "from tensorflow.keras.callbacks import EarlyStopping\n",
    "from tensorflow.keras.utils import plot_model"
   ]
  },
  {
   "cell_type": "code",
   "execution_count": null,
   "metadata": {},
   "outputs": [],
   "source": [
    "seed_constant = 27\n",
    "np.random.seed(seed_constant)\n",
    "random.seed(seed_constant)\n",
    "tf.random.set_seed(seed_constant)"
   ]
  },
  {
   "cell_type": "code",
   "execution_count": null,
   "metadata": {},
   "outputs": [],
   "source": [
    "from google.colab import drive\n",
    "drive.mount('/content/drive')\n",
    "!pip install tensorflow"
   ]
  },
  {
   "cell_type": "code",
   "execution_count": null,
   "metadata": {},
   "outputs": [],
   "source": [
    "import os\n",
    "import cv2\n",
    "import random\n",
    "import matplotlib.pyplot as plt\n",
    "\n",
    "# Create a Matplotlib figure and specify the size of the figure.\n",
    "plt.figure(figsize=(20, 20))\n",
    "directory_path = '/content/drive/MyDrive/Dataset/UCF50/UCF50'\n",
    "\n",
    "# Get the names of all classes/categories in UCF50.\n",
    "all_classes_names = os.listdir(directory_path)\n",
    "\n",
    "for counter, selected_class_Name in enumerate(all_classes_names, 1):\n",
    "    video_files_names_list = os.listdir(os.path.join(directory_path, selected_class_Name))\n",
    "\n",
    "    # Check if there are video files in the folder\n",
    "    if video_files_names_list:\n",
    "        selected_video_file_name = random.choice(video_files_names_list)\n",
    "        video_reader = cv2.VideoCapture(os.path.join(directory_path, selected_class_Name, selected_video_file_name))\n",
    "        _, bgr_frame = video_reader.read()\n",
    "        video_reader.release()\n",
    "        rgb_frame = cv2.cvtColor(bgr_frame, cv2.COLOR_BGR2RGB)\n",
    "        cv2.putText(rgb_frame, selected_class_Name, (10, 30), cv2.FONT_HERSHEY_SIMPLEX, 1, (255, 255, 255), 2)\n",
    "        plt.subplot(5, 10, counter)  # Adjust the number of rows and columns as needed\n",
    "        plt.imshow(rgb_frame)\n",
    "        plt.axis('off')\n",
    "    else:\n",
    "        print(f\"No video files found in folder {selected_class_Name}\")\n",
    "\n",
    "plt.show()\n"
   ]
  },
  {
   "cell_type": "code",
   "execution_count": null,
   "metadata": {},
   "outputs": [],
   "source": [
    "# Specify the height and width to which each video frame will be resized in our dataset.\n",
    "IMAGE_HEIGHT , IMAGE_WIDTH = 64, 64\n",
    "\n",
    "# Specify the number of frames of a video that will be fed to the model as one sequence.\n",
    "SEQUENCE_LENGTH = 20\n",
    "\n",
    "# Specify the directory containing the UCF50 dataset.\n",
    "directory_path = '/content/drive/MyDrive/Dataset/UCF50/UCF50'\n",
    "\n",
    "# Specify the list containing the names of the classes used for training. Feel free to choose any set of classes.\n",
    "CLASSES_LIST = [\"WalkingWithDog\", \"Punch\", \"PullUps\", \"Diving\"]"
   ]
  }
 ],
 "metadata": {
  "language_info": {
   "name": "python"
  }
 },
 "nbformat": 4,
 "nbformat_minor": 2
}
